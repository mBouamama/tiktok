{
  "cells": [
    {
      "cell_type": "markdown",
      "metadata": {
        "colab_type": "text",
        "id": "view-in-github"
      },
      "source": [
        "<a href=\"https://colab.research.google.com/github/tiky6/tiktok/blob/master/test_connaissances_python.ipynb\" target=\"_parent\"><img src=\"https://colab.research.google.com/assets/colab-badge.svg\" alt=\"Open In Colab\"/></a>"
      ]
    },
    {
      "cell_type": "code",
      "execution_count": 2,
      "metadata": {
        "colab": {
          "base_uri": "https://localhost:8080/"
        },
        "id": "YYt7lTAvrKOl",
        "outputId": "61d74dd4-2962-469c-c4d6-132026fd8f96"
      },
      "outputs": [
        {
          "name": "stdout",
          "output_type": "stream",
          "text": [
            "[1, 2, 0, 4]\n"
          ]
        }
      ],
      "source": [
        "# test tes connaissances en python#1\n",
        "numbers = [1, 2, 3, 4]\n",
        "a = 0 \n",
        "a, numbers[a] = 2, 0\n",
        "print(numbers)"
      ]
    },
    {
      "cell_type": "code",
      "execution_count": 3,
      "metadata": {},
      "outputs": [],
      "source": [
        "# test tes connaissances en python#2 code\n",
        "def test(*args):\n",
        "    result = 1\n",
        "    for i in args:\n",
        "        result *= i\n",
        "    return result"
      ]
    },
    {
      "cell_type": "markdown",
      "metadata": {},
      "source": [
        "## test tes connaissances en python#2 question:\n",
        "\n",
        "que va afficher l'opération `test(3, 5) //  test(1,2,3)`?\n",
        "\n",
        "1. 2,5\n",
        "2. 2\n",
        "3. 3\n",
        "4. Erreur\n"
      ]
    },
    {
      "cell_type": "code",
      "execution_count": 4,
      "metadata": {},
      "outputs": [
        {
          "name": "stdout",
          "output_type": "stream",
          "text": [
            "réponse: 2\n"
          ]
        }
      ],
      "source": [
        "# test tes connaissances en python#2 Response\n",
        "print(f\"réponse: {test(3, 5) //  test(1,2,3)}\")"
      ]
    },
    {
      "cell_type": "markdown",
      "metadata": {},
      "source": [
        "## test tes connaissances en python#3:\n"
      ]
    },
    {
      "cell_type": "code",
      "execution_count": 5,
      "metadata": {},
      "outputs": [],
      "source": [
        "test = {}\n",
        "test[None] = \"tiktok\""
      ]
    },
    {
      "cell_type": "markdown",
      "metadata": {},
      "source": [
        "que va afficher la variable `test`?\n",
        "\n",
        "1. Erreur\n",
        "2. Une erreur est survenu pendant l'exécution du code\n",
        "3. {None: 'tiktok'}\n",
        "4. {}\n",
        "5. {\"None\": 'tiktok}"
      ]
    },
    {
      "cell_type": "code",
      "execution_count": 6,
      "metadata": {},
      "outputs": [
        {
          "name": "stdout",
          "output_type": "stream",
          "text": [
            "réponse: {None: 'tiktok'}\n"
          ]
        }
      ],
      "source": [
        "print(f\"réponse: {test}\")"
      ]
    }
  ],
  "metadata": {
    "colab": {
      "authorship_tag": "ABX9TyP3pniKDedTE+T0P48Tm6rn",
      "include_colab_link": true,
      "name": "Untitled4.ipynb",
      "provenance": []
    },
    "kernelspec": {
      "display_name": "Python 3",
      "name": "python3"
    },
    "language_info": {
      "codemirror_mode": {
        "name": "ipython",
        "version": 3
      },
      "file_extension": ".py",
      "mimetype": "text/x-python",
      "name": "python",
      "nbconvert_exporter": "python",
      "pygments_lexer": "ipython3",
      "version": "3.10.0"
    }
  },
  "nbformat": 4,
  "nbformat_minor": 0
}
